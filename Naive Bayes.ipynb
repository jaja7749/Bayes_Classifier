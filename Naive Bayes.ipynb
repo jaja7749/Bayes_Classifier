{
 "cells": [
  {
   "cell_type": "markdown",
   "metadata": {},
   "source": [
    "# Naive Bayes Classifier on E-mail Classification"
   ]
  },
  {
   "cell_type": "code",
   "execution_count": 1,
   "metadata": {},
   "outputs": [],
   "source": [
    "import numpy as np\n",
    "import pandas as pd\n",
    "from sklearn.feature_extraction.text import CountVectorizer\n",
    "import matplotlib.pyplot as plt\n",
    "from sklearn.metrics import confusion_matrix, ConfusionMatrixDisplay"
   ]
  },
  {
   "cell_type": "markdown",
   "metadata": {},
   "source": [
    "# Feature Extraction and Build Dataset"
   ]
  },
  {
   "cell_type": "markdown",
   "metadata": {},
   "source": [
    "The email data file is on: https://github.com/justmarkham/DAT5/blob/master/data/SMSSpamCollection.txt"
   ]
  },
  {
   "cell_type": "code",
   "execution_count": 2,
   "metadata": {},
   "outputs": [],
   "source": [
    "class dataloader:\n",
    "    def __inti__(self):\n",
    "        None\n",
    "        \n",
    "    def loadfile(self, filepath):\n",
    "        f = open(filepath,'r')\n",
    "        data = [line.strip() for line in f]\n",
    "        data = pd.DataFrame(np.array([data[i].split(\"\\t\") for i in range(len(data))]), columns=(\"label\", \"content\"))\n",
    "        data[\"label\"] = data[\"label\"].replace([\"ham\", \"spam\"], [-1, 1])\n",
    "        self.data = data\n",
    "        self.y = data[\"label\"]\n",
    "\n",
    "    def datatransform(self, data=None, new_data=False):\n",
    "        vectorizer = CountVectorizer(strip_accents='ascii', token_pattern=\"[^\\W\\d_]+\")\n",
    "        X = vectorizer.fit_transform(self.data[\"content\"])\n",
    "        self.col = vectorizer.get_feature_names_out()\n",
    "        self.X = X.toarray()\n",
    "        if new_data == True:\n",
    "            X_ = vectorizer.transform(data).toarray()\n",
    "            return X_"
   ]
  },
  {
   "cell_type": "code",
   "execution_count": 3,
   "metadata": {},
   "outputs": [
    {
     "data": {
      "text/html": [
       "<div>\n",
       "<style scoped>\n",
       "    .dataframe tbody tr th:only-of-type {\n",
       "        vertical-align: middle;\n",
       "    }\n",
       "\n",
       "    .dataframe tbody tr th {\n",
       "        vertical-align: top;\n",
       "    }\n",
       "\n",
       "    .dataframe thead th {\n",
       "        text-align: right;\n",
       "    }\n",
       "</style>\n",
       "<table border=\"1\" class=\"dataframe\">\n",
       "  <thead>\n",
       "    <tr style=\"text-align: right;\">\n",
       "      <th></th>\n",
       "      <th>label</th>\n",
       "      <th>content</th>\n",
       "    </tr>\n",
       "  </thead>\n",
       "  <tbody>\n",
       "    <tr>\n",
       "      <th>0</th>\n",
       "      <td>-1</td>\n",
       "      <td>Go until jurong point, crazy.. Available only ...</td>\n",
       "    </tr>\n",
       "    <tr>\n",
       "      <th>1</th>\n",
       "      <td>-1</td>\n",
       "      <td>Ok lar... Joking wif u oni...</td>\n",
       "    </tr>\n",
       "    <tr>\n",
       "      <th>2</th>\n",
       "      <td>1</td>\n",
       "      <td>Free entry in 2 a wkly comp to win FA Cup fina...</td>\n",
       "    </tr>\n",
       "    <tr>\n",
       "      <th>3</th>\n",
       "      <td>-1</td>\n",
       "      <td>U dun say so early hor... U c already then say...</td>\n",
       "    </tr>\n",
       "    <tr>\n",
       "      <th>4</th>\n",
       "      <td>-1</td>\n",
       "      <td>Nah I don't think he goes to usf, he lives aro...</td>\n",
       "    </tr>\n",
       "  </tbody>\n",
       "</table>\n",
       "</div>"
      ],
      "text/plain": [
       "   label                                            content\n",
       "0     -1  Go until jurong point, crazy.. Available only ...\n",
       "1     -1                      Ok lar... Joking wif u oni...\n",
       "2      1  Free entry in 2 a wkly comp to win FA Cup fina...\n",
       "3     -1  U dun say so early hor... U c already then say...\n",
       "4     -1  Nah I don't think he goes to usf, he lives aro..."
      ]
     },
     "execution_count": 3,
     "metadata": {},
     "output_type": "execute_result"
    }
   ],
   "source": [
    "file = 'SMSSpamCollection.txt'\n",
    "dataset = dataloader()\n",
    "dataset.loadfile(file)\n",
    "dataset.datatransform()\n",
    "X, y, col  = dataset.X, dataset.y, dataset.col\n",
    "dataset.data.head()"
   ]
  },
  {
   "cell_type": "markdown",
   "metadata": {},
   "source": [
    "# Build NB(Naive Bayes) Classifier Model"
   ]
  },
  {
   "cell_type": "code",
   "execution_count": 4,
   "metadata": {},
   "outputs": [],
   "source": [
    "class NBC:\n",
    "    def __init__(self, X, y, col):\n",
    "        self.X = np.array(X)\n",
    "        self.y = np.array(y) #label\n",
    "        self.col = col\n",
    "        self.p_y = np.zeros(2)\n",
    "        self.p_x_y = np.zeros((2, len(self.X.T)))\n",
    "    \n",
    "    def train(self):\n",
    "        self.p_y[0] = np.sum(self.y==+1)/len(self.y) #p(y+)\n",
    "        self.p_y[1] = np.sum(self.y==-1)/len(self.y) #p(y-)\n",
    "        for d in range(len(self.X.T)):\n",
    "            self.p_x_y[0][d] = (np.sum(self.X.T[d][y==+1]>=1)+1) / (np.sum(self.X.T[d][y==+1]>=0)+2) #p(x|y+)\n",
    "            self.p_x_y[1][d] = (np.sum(self.X.T[d][y==-1]>=1)+1) / (np.sum(self.X.T[d][y==-1]>=0)+2) #p(x|y-)\n",
    "        \n",
    "    def pred(self, x):\n",
    "        y_pred = np.array([])\n",
    "        for d in range(1 if x.ndim == 1 else len(x)):\n",
    "            p_X_y = np.ones(2)\n",
    "            p_x_y = abs(1-(x[d]>=1)-self.p_x_y)\n",
    "            for i in range(len(p_x_y[0])):\n",
    "                p_X_y *= p_x_y[:,i] #p(X|y) = Πp(x|y)\n",
    "            p_x = p_X_y[0]*self.p_y[0]+p_X_y[1]*self.p_y[1] #p(x)\n",
    "            y_pred = np.append(y_pred, 1 if (p_X_y[0]*self.p_y[0]/p_x >= p_X_y[1]*self.p_y[1]/p_x) else -1) #p(y|x) = p(x|y)*p(y)/p(x)\n",
    "        return y_pred\n",
    "    \n",
    "    def valid(self):\n",
    "        accuracy = np.sum(self.y==self.pred(self.X))/len(self.X)\n",
    "        return accuracy"
   ]
  },
  {
   "cell_type": "markdown",
   "metadata": {},
   "source": [
    "# Vaild the dataset"
   ]
  },
  {
   "cell_type": "code",
   "execution_count": 5,
   "metadata": {},
   "outputs": [
    {
     "name": "stdout",
     "output_type": "stream",
     "text": [
      "Accuracy: 98.816 %\n"
     ]
    },
    {
     "data": {
      "image/png": "[encoded data removed]",
      "text/plain": [
       "<Figure size 640x480 with 2 Axes>"
      ]
     },
     "metadata": {},
     "output_type": "display_data"
    }
   ],
   "source": [
    "model = NBC(X, y, col)\n",
    "model.train()\n",
    "y_pred = model.pred(X)\n",
    "#print(f\"Accuracy: {model.valid()*100:.3f} %\")\n",
    "print(f\"Accuracy: {(np.sum(y==y_pred)/len(y))*100:.3f} %\")\n",
    "cm = confusion_matrix(y, y_pred, labels=[-1, 1])\n",
    "cm_display = ConfusionMatrixDisplay(cm, display_labels=[-1, 1])\n",
    "cm_display.plot()\n",
    "plt.show()"
   ]
  },
  {
   "cell_type": "markdown",
   "metadata": {},
   "source": [
    "# Test the new data"
   ]
  },
  {
   "cell_type": "code",
   "execution_count": 6,
   "metadata": {},
   "outputs": [],
   "source": [
    "# test1, test2 are [spam, ham]\n",
    "test1 = \"You are a winner U have been specially selected 2 receive £1000 cash or a 4* holiday (flights inc) speak to a live operator 2 claim 0871277810810\"\n",
    "test2 = \"I just reached home. I go bathe first. But my sis using net tell u when she finishes k...\"\n",
    "test = np.array([test1, test2])"
   ]
  },
  {
   "cell_type": "code",
   "execution_count": 7,
   "metadata": {},
   "outputs": [
    {
     "name": "stdout",
     "output_type": "stream",
     "text": [
      "Naive Bayes Predict(1:spam, -1:ham): [ 1. -1.]\n"
     ]
    }
   ],
   "source": [
    "X_ = dataset.datatransform(data=test, new_data=True)\n",
    "print(\"Naive Bayes Predict(1:spam, -1:ham):\", model.pred(X_))"
   ]
  }
 ],
 "metadata": {
  "kernelspec": {
   "display_name": "AI_learn",
   "language": "python",
   "name": "python3"
  },
  "language_info": {
   "codemirror_mode": {
    "name": "ipython",
    "version": 3
   },
   "file_extension": ".py",
   "mimetype": "text/x-python",
   "name": "python",
   "nbconvert_exporter": "python",
   "pygments_lexer": "ipython3",
   "version": "3.11.4"
  }
 },
 "nbformat": 4,
 "nbformat_minor": 2
}
